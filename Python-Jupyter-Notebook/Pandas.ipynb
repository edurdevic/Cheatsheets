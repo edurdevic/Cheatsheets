{
 "cells": [
  {
   "cell_type": "code",
   "execution_count": 3,
   "metadata": {
    "collapsed": true
   },
   "outputs": [],
   "source": [
    "# Tell matplotlib to plot the charts inline\n",
    "%matplotlib inline\n",
    "\n",
    "import pandas as pd\n",
    "import numpy as np"
   ]
  },
  {
   "cell_type": "markdown",
   "metadata": {},
   "source": [
    "# Series"
   ]
  },
  {
   "cell_type": "code",
   "execution_count": 8,
   "metadata": {
    "collapsed": false
   },
   "outputs": [
    {
     "data": {
      "text/plain": [
       "nan"
      ]
     },
     "execution_count": 8,
     "metadata": {},
     "output_type": "execute_result"
    }
   ],
   "source": [
    "s = pd.Series(np.random.randn(5), index=['a', 'b', 'c', 'd', 'e'])\n",
    "\n",
    "# Get by position\n",
    "s[0]\n",
    "\n",
    "# Slice by position\n",
    "s[:3]\n",
    "\n",
    "# Filter\n",
    "s[s > s.median()]\n",
    "\n",
    "# Multiple selection by position\n",
    "s[[4, 3, 1]]\n",
    "\n",
    "# Selection by Index\n",
    "s['a']\n",
    "s.get('a')\n",
    "s.get('f', np.nan) # With default"
   ]
  },
  {
   "cell_type": "markdown",
   "metadata": {},
   "source": [
    "## Series operations"
   ]
  },
  {
   "cell_type": "code",
   "execution_count": 9,
   "metadata": {
    "collapsed": false
   },
   "outputs": [
    {
     "data": {
      "text/plain": [
       "a         NaN\n",
       "b    0.439609\n",
       "c   -0.463903\n",
       "d    0.929749\n",
       "e         NaN\n",
       "dtype: float64"
      ]
     },
     "execution_count": 9,
     "metadata": {},
     "output_type": "execute_result"
    }
   ],
   "source": [
    "s + s\n",
    "s * 2\n",
    "np.exp(s)\n",
    "\n",
    "# Index aware operations\n",
    "s[1:] + s[:-1]"
   ]
  },
  {
   "cell_type": "markdown",
   "metadata": {},
   "source": [
    "# DataFrame"
   ]
  },
  {
   "cell_type": "code",
   "execution_count": 19,
   "metadata": {
    "collapsed": false
   },
   "outputs": [],
   "source": [
    "\n",
    "# Create from dict of series\n",
    "d = {'one' : pd.Series([1., 2., 3.], index=['a', 'b', 'c']),\n",
    "    'two' : pd.Series([1., 2., 3., 4.], index=['a', 'b', 'c', 'd'])}\n",
    "\n",
    "df = pd.DataFrame(d)\n",
    "\n",
    "# Create from dict and filter only certain indexes\n",
    "pd.DataFrame(d, index=['d', 'b', 'a'])\n",
    "\n",
    "# Create from dict with column names\n",
    "pd.DataFrame(d, columns=['two', 'three'])\n",
    "\n",
    "\n",
    "# Create from dict of arrays\n",
    "d = {'one' : [1., 2., 3., 4.],\n",
    "    'two' : [4., 3., 2., 1.]}\n",
    "df = pd.DataFrame(d)\n",
    "\n",
    "# Create from list of dicts\n",
    "d = [{'a': 1, 'b': 2},            # row 1\n",
    "     {'a': 5, 'b': 10, 'c': 20}]  # row 2\n",
    "df = pd.DataFrame(d)\n",
    "\n",
    "# Create from touples\n",
    "df = pd.DataFrame.from_items([('A', [1, 2, 3]), ('B', [4, 5, 6])],\n",
    "    orient='index', columns=['one', 'two', 'three'])"
   ]
  },
  {
   "cell_type": "markdown",
   "metadata": {},
   "source": [
    "##Column operations"
   ]
  },
  {
   "cell_type": "code",
   "execution_count": 18,
   "metadata": {
    "collapsed": false
   },
   "outputs": [],
   "source": [
    "# Select column\n",
    "df['one']\n",
    "\n",
    "# Operations on culomn values one-by-one\n",
    "df['three'] = df['one'] * df['two']\n",
    "\n",
    "# Create boolean filter column\n",
    "df['flag'] = df['one'] > 2\n",
    "\n",
    "# Remove columns\n",
    "del df['two']\n",
    "three = df.pop('three')\n",
    "\n",
    "# Create column with a the same value in each row\n",
    "df['foo'] = 'bar'\n",
    "\n",
    "# insert culomn on position 1 and name it 'bar'\n",
    "df.insert(1, 'bar', df['one'])"
   ]
  },
  {
   "cell_type": "code",
   "execution_count": null,
   "metadata": {
    "collapsed": true
   },
   "outputs": [],
   "source": []
  }
 ],
 "metadata": {
  "kernelspec": {
   "display_name": "Python 2",
   "language": "python",
   "name": "python2"
  },
  "language_info": {
   "codemirror_mode": {
    "name": "ipython",
    "version": 2
   },
   "file_extension": ".py",
   "mimetype": "text/x-python",
   "name": "python",
   "nbconvert_exporter": "python",
   "pygments_lexer": "ipython2",
   "version": "2.7.10"
  }
 },
 "nbformat": 4,
 "nbformat_minor": 1
}
