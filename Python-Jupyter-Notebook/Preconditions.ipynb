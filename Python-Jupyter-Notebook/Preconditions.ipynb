{
 "cells": [
  {
   "cell_type": "code",
   "execution_count": 2,
   "metadata": {
    "collapsed": true
   },
   "outputs": [],
   "source": [
    "from preconditions import preconditions"
   ]
  },
  {
   "cell_type": "code",
   "execution_count": 3,
   "metadata": {
    "collapsed": true
   },
   "outputs": [],
   "source": [
    "@preconditions(lambda i: isinstance(i, int))\n",
    "def double(i):\n",
    "    return 2*i"
   ]
  },
  {
   "cell_type": "code",
   "execution_count": 6,
   "metadata": {
    "collapsed": false
   },
   "outputs": [],
   "source": [
    "@preconditions(\n",
    "    lambda i: isinstance(i, int),\n",
    "    lambda i: i > 0,\n",
    "    )\n",
    "def double(i):\n",
    "    return 2*i"
   ]
  },
  {
   "cell_type": "code",
   "execution_count": null,
   "metadata": {
    "collapsed": true
   },
   "outputs": [],
   "source": [
    "@preconditions(\n",
    "    lambda i: isinstance(i, int) and i > 0,\n",
    "    )\n",
    "def double(i):\n",
    "    return 2*i"
   ]
  },
  {
   "cell_type": "code",
   "execution_count": 7,
   "metadata": {
    "collapsed": true
   },
   "outputs": [],
   "source": [
    "@preconditions(\n",
    "    lambda s: isinstance(s, unicode),\n",
    "    lambda n: isinstance(n, int) and n >= 0,\n",
    "    )\n",
    "def repeat(s, n):\n",
    "    return s*n"
   ]
  },
  {
   "cell_type": "code",
   "execution_count": null,
   "metadata": {
    "collapsed": true
   },
   "outputs": [],
   "source": [
    "@preconditions(\n",
    "    lambda a, b: a <= b\n",
    "    )\n",
    "def strict_range(a, b):\n",
    "    return range(a, b)"
   ]
  },
  {
   "cell_type": "code",
   "execution_count": null,
   "metadata": {
    "collapsed": true
   },
   "outputs": [],
   "source": [
    "class Monotonic (object):\n",
    "    def __init__(self):\n",
    "        self.v = 0\n",
    "\n",
    "    @preconditions(lambda self, v: v > self.v)\n",
    "    def set(self, v):\n",
    "        self.v = v"
   ]
  },
  {
   "cell_type": "code",
   "execution_count": 8,
   "metadata": {
    "collapsed": true
   },
   "outputs": [],
   "source": [
    "class LinearRange (tuple):\n",
    "    @preconditions(\n",
    "           lambda a: isinstance(a, float),\n",
    "           lambda b: isinstance(b, float),\n",
    "           lambda a, b: a < b,\n",
    "           )\n",
    "    def __new__(cls, a, b):\n",
    "        return super(OrderedTuple, cls).__new__(cls, (a, b))\n",
    "\n",
    "    @preconditions(lambda w: 0 <= w < 1.0)\n",
    "    def __call__(self, w):\n",
    "        lo, hi = self\n",
    "        return w * (hi - lo) + lo\n",
    "\n",
    "    @preconditions(lambda x: self[0] <= x < self[1])\n",
    "    def invert(self, x):\n",
    "        lo, hi = self\n",
    "        return (x - lo) / (hi - lo)"
   ]
  },
  {
   "cell_type": "code",
   "execution_count": 9,
   "metadata": {
    "collapsed": true
   },
   "outputs": [],
   "source": [
    "scores = {}\n",
    "\n",
    "@preconditions(\n",
    "    lambda color, _colors=['RED', 'GREEN', 'BLUE']: color in _colors\n",
    "    )\n",
    "def get_color_score(color):\n",
    "    return scores[color]"
   ]
  },
  {
   "cell_type": "code",
   "execution_count": null,
   "metadata": {
    "collapsed": true
   },
   "outputs": [],
   "source": []
  }
 ],
 "metadata": {
  "kernelspec": {
   "display_name": "Python 2",
   "language": "python",
   "name": "python2"
  },
  "language_info": {
   "codemirror_mode": {
    "name": "ipython",
    "version": 2
   },
   "file_extension": ".py",
   "mimetype": "text/x-python",
   "name": "python",
   "nbconvert_exporter": "python",
   "pygments_lexer": "ipython2",
   "version": "2.7.10"
  }
 },
 "nbformat": 4,
 "nbformat_minor": 1
}
