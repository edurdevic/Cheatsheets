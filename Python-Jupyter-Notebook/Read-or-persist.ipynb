{
 "cells": [
  {
   "cell_type": "code",
   "execution_count": 67,
   "metadata": {
    "collapsed": true
   },
   "outputs": [],
   "source": [
    "# Tell matplotlib to plot the charts inline\n",
    "%matplotlib inline\n",
    "\n",
    "import matplotlib.pyplot as plt\n",
    "import sklearn\n",
    "import numpy as np\n",
    "import pandas as pd\n",
    "from datetime import datetime, timedelta\n",
    "import os"
   ]
  },
  {
   "cell_type": "code",
   "execution_count": 68,
   "metadata": {
    "collapsed": true
   },
   "outputs": [],
   "source": [
    "def get_df(a, b):\n",
    "    d = {'one' : pd.Series([1., 2., 3.], index=['a', 'b', 'c']),\n",
    "        'two' : pd.Series([1., 2., 3., 4.], index=['a', 'b', 'c', 'd'])}\n",
    "\n",
    "    df = pd.DataFrame(d)\n",
    "    return df"
   ]
  },
  {
   "cell_type": "code",
   "execution_count": 69,
   "metadata": {
    "collapsed": false
   },
   "outputs": [],
   "source": [
    "data_folder = os.path.join('Data','Read-or-persist')\n",
    "\n",
    "class DataDescriptor:\n",
    "    def __init__(self, name, get_data_function, get_data_params):\n",
    "        # TODO: check preconditions\n",
    "        \n",
    "        self.name = name\n",
    "        self.get_data_function = get_data_function\n",
    "        self.get_data_params = get_data_params\n",
    "\n",
    "class Retriver:\n",
    "    @staticmethod\n",
    "    def get_or_persist_data_frames(data_folder, data_descriptors):\n",
    "        # TODO: check preconditions\n",
    "        \n",
    "        data_frames = {}\n",
    "\n",
    "        for descriptor in data_descriptors:\n",
    "            data_frames[descriptor.name] = get_or_persist_data_frame(data_folder, descriptor)\n",
    "\n",
    "        return data_frames\n",
    "\n",
    "    @staticmethod\n",
    "    def get_or_persist_data_frame(data_folder, descriptor):\n",
    "        # TODO: check preconditions\n",
    "        \n",
    "        # Ensure the data directory exists\n",
    "        if not os.path.exists(data_folder):\n",
    "            print \"Creating data folder\"\n",
    "            os.makedirs(data_folder)\n",
    "\n",
    "        expected_data_file = os.path.join(data_folder, '{}.csv'.format(descriptor.name))\n",
    "\n",
    "        # if the data file exists, retrives it\n",
    "        if os.path.isfile(expected_data_file):\n",
    "            print \"Retriving data from csv.\"\n",
    "            df = pd.read_csv(expected_data_file)\n",
    "            df.head()\n",
    "\n",
    "        # otherwise executes the function \n",
    "        else:\n",
    "            print \"Retriving data with function {}, args {}\".format(descriptor.get_data_function, descriptor.get_data_params)\n",
    "            df = descriptor.get_data_function(*descriptor.get_data_params)\n",
    "            df.to_csv(expected_data_file)\n",
    "\n",
    "        return df"
   ]
  },
  {
   "cell_type": "code",
   "execution_count": 70,
   "metadata": {
    "collapsed": false
   },
   "outputs": [
    {
     "name": "stdout",
     "output_type": "stream",
     "text": [
      "Retriving data from csv.\n"
     ]
    },
    {
     "data": {
      "text/html": [
       "<div>\n",
       "<table border=\"1\" class=\"dataframe\">\n",
       "  <thead>\n",
       "    <tr style=\"text-align: right;\">\n",
       "      <th></th>\n",
       "      <th>Unnamed: 0</th>\n",
       "      <th>one</th>\n",
       "      <th>two</th>\n",
       "    </tr>\n",
       "  </thead>\n",
       "  <tbody>\n",
       "    <tr>\n",
       "      <th>0</th>\n",
       "      <td>a</td>\n",
       "      <td>1.0</td>\n",
       "      <td>1.0</td>\n",
       "    </tr>\n",
       "    <tr>\n",
       "      <th>1</th>\n",
       "      <td>b</td>\n",
       "      <td>2.0</td>\n",
       "      <td>2.0</td>\n",
       "    </tr>\n",
       "    <tr>\n",
       "      <th>2</th>\n",
       "      <td>c</td>\n",
       "      <td>3.0</td>\n",
       "      <td>3.0</td>\n",
       "    </tr>\n",
       "    <tr>\n",
       "      <th>3</th>\n",
       "      <td>d</td>\n",
       "      <td>NaN</td>\n",
       "      <td>4.0</td>\n",
       "    </tr>\n",
       "  </tbody>\n",
       "</table>\n",
       "</div>"
      ],
      "text/plain": [
       "  Unnamed: 0  one  two\n",
       "0          a  1.0  1.0\n",
       "1          b  2.0  2.0\n",
       "2          c  3.0  3.0\n",
       "3          d  NaN  4.0"
      ]
     },
     "execution_count": 70,
     "metadata": {},
     "output_type": "execute_result"
    }
   ],
   "source": [
    "Retriver.get_or_persist_data_frame(data_folder, DataDescriptor('aa', get_df, ('bb','cc')))\n"
   ]
  },
  {
   "cell_type": "code",
   "execution_count": 58,
   "metadata": {
    "collapsed": false
   },
   "outputs": [],
   "source": [
    "d = DataDescriptor('aa', get_df, ['bb','bbb'])"
   ]
  },
  {
   "cell_type": "code",
   "execution_count": null,
   "metadata": {
    "collapsed": true
   },
   "outputs": [],
   "source": []
  }
 ],
 "metadata": {
  "kernelspec": {
   "display_name": "Python 2",
   "language": "python",
   "name": "python2"
  },
  "language_info": {
   "codemirror_mode": {
    "name": "ipython",
    "version": 2
   },
   "file_extension": ".py",
   "mimetype": "text/x-python",
   "name": "python",
   "nbconvert_exporter": "python",
   "pygments_lexer": "ipython2",
   "version": "2.7.10"
  }
 },
 "nbformat": 4,
 "nbformat_minor": 1
}
